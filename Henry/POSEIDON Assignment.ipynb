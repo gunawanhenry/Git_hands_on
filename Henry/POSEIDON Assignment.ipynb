{
 "cells": [
  {
   "cell_type": "markdown",
   "id": "d81f929c-eb3d-460d-8efd-079de7922af1",
   "metadata": {},
   "source": [
    "# Environment"
   ]
  },
  {
   "cell_type": "code",
   "execution_count": 2,
   "id": "22152a0c-f6f1-421e-be30-63c03d7bc10a",
   "metadata": {},
   "outputs": [],
   "source": [
    "import pandas as pd\n",
    "import matplotlib.pyplot as plt"
   ]
  },
  {
   "cell_type": "code",
   "execution_count": 3,
   "id": "95e68268-4397-4504-85a3-082442d2d927",
   "metadata": {},
   "outputs": [],
   "source": [
    "CT_scan_df = pd.read_csv(r'C:\\Users\\HGu\\OneDrive - NGI\\Documents\\GitHub\\POSEIDON Project\\laboratory_data\\Kuhlmann_2016\\datasets\\GeoB14403-8_CT_scan.tab', sep='\\t', skiprows=16)\n",
    "direct_shear_df = pd.read_csv(r'C:\\Users\\HGu\\OneDrive - NGI\\Documents\\GitHub\\POSEIDON Project\\laboratory_data\\Kuhlmann_2016\\datasets\\GeoB14403-8_drained_direct-shear.tab', sep='\\t', skiprows=18)\n",
    "chem_prop_df = pd.read_csv(r'C:\\Users\\HGu\\OneDrive - NGI\\Documents\\GitHub\\POSEIDON Project\\laboratory_data\\Kuhlmann_2016\\datasets\\GeoB14403-8_physical_chemical_properties.tab', sep='\\t', skiprows=15)"
   ]
  },
  {
   "cell_type": "markdown",
   "id": "869c2eeb-4efe-4046-84f5-6a4ba742f80a",
   "metadata": {},
   "source": [
    "# I - CT Scan Data"
   ]
  },
  {
   "cell_type": "code",
   "execution_count": 6,
   "id": "2f58e7a7-eba4-42cf-9186-68aa9f291bab",
   "metadata": {},
   "outputs": [
    {
     "data": {
      "text/html": [
       "<div>\n",
       "<style scoped>\n",
       "    .dataframe tbody tr th:only-of-type {\n",
       "        vertical-align: middle;\n",
       "    }\n",
       "\n",
       "    .dataframe tbody tr th {\n",
       "        vertical-align: top;\n",
       "    }\n",
       "\n",
       "    .dataframe thead th {\n",
       "        text-align: right;\n",
       "    }\n",
       "</style>\n",
       "<table border=\"1\" class=\"dataframe\">\n",
       "  <thead>\n",
       "    <tr style=\"text-align: right;\">\n",
       "      <th></th>\n",
       "      <th>Depth sed [m]</th>\n",
       "      <th>Sample label</th>\n",
       "      <th>No slice [#]</th>\n",
       "      <th>Radiodensity [HU]</th>\n",
       "      <th>Mesoporosity [%]</th>\n",
       "    </tr>\n",
       "  </thead>\n",
       "  <tbody>\n",
       "    <tr>\n",
       "      <th>0</th>\n",
       "      <td>28.1800</td>\n",
       "      <td>GeoB14403-8_5P-2</td>\n",
       "      <td>0</td>\n",
       "      <td>1035.69</td>\n",
       "      <td>38.22</td>\n",
       "    </tr>\n",
       "    <tr>\n",
       "      <th>1</th>\n",
       "      <td>28.1803</td>\n",
       "      <td>GeoB14403-8_5P-2</td>\n",
       "      <td>1</td>\n",
       "      <td>1036.48</td>\n",
       "      <td>37.39</td>\n",
       "    </tr>\n",
       "    <tr>\n",
       "      <th>2</th>\n",
       "      <td>28.1806</td>\n",
       "      <td>GeoB14403-8_5P-2</td>\n",
       "      <td>2</td>\n",
       "      <td>1042.68</td>\n",
       "      <td>36.70</td>\n",
       "    </tr>\n",
       "    <tr>\n",
       "      <th>3</th>\n",
       "      <td>28.1809</td>\n",
       "      <td>GeoB14403-8_5P-2</td>\n",
       "      <td>3</td>\n",
       "      <td>1046.68</td>\n",
       "      <td>36.04</td>\n",
       "    </tr>\n",
       "    <tr>\n",
       "      <th>4</th>\n",
       "      <td>28.1812</td>\n",
       "      <td>GeoB14403-8_5P-2</td>\n",
       "      <td>4</td>\n",
       "      <td>1049.22</td>\n",
       "      <td>35.30</td>\n",
       "    </tr>\n",
       "  </tbody>\n",
       "</table>\n",
       "</div>"
      ],
      "text/plain": [
       "   Depth sed [m]      Sample label  No slice [#]  Radiodensity [HU]  \\\n",
       "0        28.1800  GeoB14403-8_5P-2             0            1035.69   \n",
       "1        28.1803  GeoB14403-8_5P-2             1            1036.48   \n",
       "2        28.1806  GeoB14403-8_5P-2             2            1042.68   \n",
       "3        28.1809  GeoB14403-8_5P-2             3            1046.68   \n",
       "4        28.1812  GeoB14403-8_5P-2             4            1049.22   \n",
       "\n",
       "   Mesoporosity [%]  \n",
       "0             38.22  \n",
       "1             37.39  \n",
       "2             36.70  \n",
       "3             36.04  \n",
       "4             35.30  "
      ]
     },
     "execution_count": 6,
     "metadata": {},
     "output_type": "execute_result"
    }
   ],
   "source": [
    "CT_scan_df.head()"
   ]
  },
  {
   "cell_type": "code",
   "execution_count": null,
   "id": "515c0b00-e06b-4065-979b-925529f244bd",
   "metadata": {},
   "outputs": [],
   "source": [
    "plt.plot(CT_scan_df[\"DIS [mm] (DS I, horizontal)\"],   CT_scan_df[\"Shear str [kPa] (DS I)\"], label= \"DS I\")\n",
    "plt.plot(CT_scan_df[\"DIS [mm] (DS II, horizontal)\"],  CT_scan_df[\"Shear str [kPa] (DS II)\"], label= \"DS II\")\n",
    "\n",
    "\n",
    "plt.xlim(0,12)\n",
    "plt.ylim(0,160)\n",
    "\n",
    "plt.title(\"Direct Shear\")\n",
    "plt.xlabel(\"Horizontal displacement [mm]\")\n",
    "plt.ylabel(\"$\\\\tau$ [kPa]\")\n",
    "plt.legend(loc=\"best\")\n",
    "plt.grid()\n",
    "plt.show()"
   ]
  },
  {
   "cell_type": "code",
   "execution_count": null,
   "id": "a40b30e2-540a-416e-b397-007f096b0b5c",
   "metadata": {},
   "outputs": [],
   "source": []
  },
  {
   "cell_type": "code",
   "execution_count": null,
   "id": "7e3273f2-a0a7-447a-8db4-678fc895f25a",
   "metadata": {},
   "outputs": [],
   "source": []
  },
  {
   "cell_type": "markdown",
   "id": "a855eb84-cded-48b3-89f3-a926837ec76e",
   "metadata": {},
   "source": [
    "# II - Direct Shear Data"
   ]
  },
  {
   "cell_type": "code",
   "execution_count": null,
   "id": "982d3947-cd8d-4986-9618-2727900a6173",
   "metadata": {},
   "outputs": [],
   "source": [
    "direct_shear_df.head()"
   ]
  },
  {
   "cell_type": "code",
   "execution_count": 22,
   "id": "1b044f69-7f49-4127-a4e0-78a424e517d4",
   "metadata": {},
   "outputs": [
    {
     "data": {
      "image/png": "[encoded data removed]",
      "text/plain": [
       "<Figure size 640x480 with 1 Axes>"
      ]
     },
     "metadata": {},
     "output_type": "display_data"
    }
   ],
   "source": [
    "plt.plot(direct_shear_df[\"DIS [mm] (DS I, horizontal)\"], direct_shear_df[\"Shear str [kPa] (DS I)\"], label= \"DS I\")\n",
    "plt.plot(direct_shear_df[\"DIS [mm] (DS II, horizontal)\"], direct_shear_df[\"Shear str [kPa] (DS II)\"], label= \"DS II\")\n",
    "plt.plot(direct_shear_df[\"DIS [mm] (DS III, horizontal)\"], direct_shear_df[\"Shear str [kPa] (DS III)\"], label= \"DS III\")\n",
    "\n",
    "\n",
    "plt.xlim(0,12)\n",
    "plt.ylim(0,160)\n",
    "\n",
    "plt.title(\"Direct Shear\")\n",
    "plt.xlabel(\"Horizontal displacement [mm]\")\n",
    "plt.ylabel(\"$\\\\tau$ [kPa]\")\n",
    "plt.legend(loc=\"best\")\n",
    "plt.grid()\n",
    "plt.show()"
   ]
  },
  {
   "cell_type": "code",
   "execution_count": null,
   "id": "591e7e9f-57a2-4f95-9bea-8e5b178a9ce8",
   "metadata": {},
   "outputs": [],
   "source": []
  },
  {
   "cell_type": "markdown",
   "id": "06abc8ad-fb3e-4ec8-8d90-1f9473c17b81",
   "metadata": {},
   "source": [
    "# III - Chem Prop Data"
   ]
  },
  {
   "cell_type": "code",
   "execution_count": null,
   "id": "8c6ef7ca-b351-45eb-a758-bdd5734d415b",
   "metadata": {},
   "outputs": [],
   "source": [
    "chem_prop_df.head()"
   ]
  }
 ],
 "metadata": {
  "kernelspec": {
   "display_name": "Python 3 (ipykernel)",
   "language": "python",
   "name": "python3"
  },
  "language_info": {
   "codemirror_mode": {
    "name": "ipython",
    "version": 3
   },
   "file_extension": ".py",
   "mimetype": "text/x-python",
   "name": "python",
   "nbconvert_exporter": "python",
   "pygments_lexer": "ipython3",
   "version": "3.12.7"
  }
 },
 "nbformat": 4,
 "nbformat_minor": 5
}
